{
 "cells": [
  {
   "cell_type": "markdown",
   "metadata": {},
   "source": [
    "# Beautiful numbers"
   ]
  },
  {
   "cell_type": "code",
   "execution_count": 53,
   "metadata": {
    "ExecuteTime": {
     "end_time": "2019-05-14T22:06:47.957546Z",
     "start_time": "2019-05-14T22:06:47.951632Z"
    }
   },
   "outputs": [],
   "source": [
    "import itertools\n",
    "def beautiful(n):\n",
    "    a = list(range(1, n+1))\n",
    "    \n",
    "    result = []\n",
    "    \n",
    "    for i in list((itertools.permutations(a, n))):\n",
    "        \n",
    "        flag = True\n",
    "        for k in range(len(i)):\n",
    "            if (i[k]%(k+1) == 0) | ((k+1)%i[k] == 0):\n",
    "                pass\n",
    "            else:\n",
    "                flag = False\n",
    "                break\n",
    "\n",
    "        if flag:\n",
    "            result.append(i)\n",
    "    \n",
    "    return len(result)"
   ]
  },
  {
   "cell_type": "code",
   "execution_count": 54,
   "metadata": {
    "ExecuteTime": {
     "end_time": "2019-05-14T22:06:48.237080Z",
     "start_time": "2019-05-14T22:06:48.232078Z"
    }
   },
   "outputs": [
    {
     "name": "stdout",
     "output_type": "stream",
     "text": [
      "1\n",
      "1\n",
      "2\n",
      "3\n",
      "8\n"
     ]
    }
   ],
   "source": [
    "for i in range(5):\n",
    "    print(beautiful(i))"
   ]
  },
  {
   "cell_type": "code",
   "execution_count": 56,
   "metadata": {
    "ExecuteTime": {
     "end_time": "2019-05-14T22:07:36.003766Z",
     "start_time": "2019-05-14T22:07:35.999746Z"
    }
   },
   "outputs": [
    {
     "data": {
      "text/plain": [
       "2"
      ]
     },
     "execution_count": 56,
     "metadata": {},
     "output_type": "execute_result"
    }
   ],
   "source": [
    "beautiful(2)"
   ]
  },
  {
   "cell_type": "markdown",
   "metadata": {},
   "source": [
    "# Working Schedules"
   ]
  },
  {
   "cell_type": "code",
   "execution_count": 30,
   "metadata": {
    "ExecuteTime": {
     "end_time": "2019-05-14T21:43:48.048521Z",
     "start_time": "2019-05-14T21:43:48.041005Z"
    }
   },
   "outputs": [],
   "source": [
    "import itertools\n",
    "def findSchedules(workHours, dayHours, pattern):\n",
    "    # Write your code here\n",
    "\n",
    "    total_hours = 0\n",
    "    marks = 0\n",
    "    result = []\n",
    "\n",
    "    for i in pattern:\n",
    "        try:\n",
    "            total_hours += int(i)\n",
    "        except ValueError:\n",
    "            marks += 1\n",
    "\n",
    "    hours_left = workHours - total_hours\n",
    "    combinations = []\n",
    "    marks_indexes = []\n",
    "    \n",
    "        \n",
    "    for i in list(itertools.product(range(dayHours+1), repeat=marks)):\n",
    "        if sum(i) == hours_left:\n",
    "            combinations.append(i)\n",
    "    \n",
    "    for i, c in enumerate(pattern):\n",
    "        if '?' == c:\n",
    "            marks_indexes.append(i)\n",
    "    \n",
    "    for i in combinations:  \n",
    "        proxy_pattern = pattern\n",
    "        for j,k in zip(marks_indexes, i):\n",
    "            a = list(proxy_pattern)\n",
    "            a[j]=str(k)\n",
    "            proxy_pattern = \"\".join(a)\n",
    "        result.append(proxy_pattern)\n",
    "        \n",
    "    return result"
   ]
  },
  {
   "cell_type": "code",
   "execution_count": 31,
   "metadata": {
    "ExecuteTime": {
     "end_time": "2019-05-14T21:43:48.715631Z",
     "start_time": "2019-05-14T21:43:48.712834Z"
    }
   },
   "outputs": [],
   "source": [
    "string = '??8????'"
   ]
  },
  {
   "cell_type": "code",
   "execution_count": 33,
   "metadata": {
    "ExecuteTime": {
     "end_time": "2019-05-14T21:43:54.431452Z",
     "start_time": "2019-05-14T21:43:54.261277Z"
    },
    "scrolled": true
   },
   "outputs": [
    {
     "data": {
      "text/plain": [
       "['8888888']"
      ]
     },
     "execution_count": 33,
     "metadata": {},
     "output_type": "execute_result"
    }
   ],
   "source": [
    "findSchedules(56,8,string)"
   ]
  },
  {
   "cell_type": "code",
   "execution_count": 34,
   "metadata": {
    "ExecuteTime": {
     "end_time": "2019-05-14T22:01:33.248364Z",
     "start_time": "2019-05-14T22:01:33.245682Z"
    }
   },
   "outputs": [],
   "source": [
    "string = '??2??00'"
   ]
  },
  {
   "cell_type": "code",
   "execution_count": 35,
   "metadata": {
    "ExecuteTime": {
     "end_time": "2019-05-14T22:01:33.499032Z",
     "start_time": "2019-05-14T22:01:33.494974Z"
    }
   },
   "outputs": [
    {
     "data": {
      "text/plain": [
       "['0020100', '0021000', '0120000', '1020000']"
      ]
     },
     "execution_count": 35,
     "metadata": {},
     "output_type": "execute_result"
    }
   ],
   "source": [
    "findSchedules(3,2,string)"
   ]
  }
 ],
 "metadata": {
  "hide_input": false,
  "kernelspec": {
   "display_name": "Python 3",
   "language": "python",
   "name": "python3"
  },
  "language_info": {
   "codemirror_mode": {
    "name": "ipython",
    "version": 3
   },
   "file_extension": ".py",
   "mimetype": "text/x-python",
   "name": "python",
   "nbconvert_exporter": "python",
   "pygments_lexer": "ipython3",
   "version": "3.7.3"
  },
  "toc": {
   "base_numbering": 1,
   "nav_menu": {},
   "number_sections": true,
   "sideBar": true,
   "skip_h1_title": false,
   "title_cell": "Table of Contents",
   "title_sidebar": "Contents",
   "toc_cell": false,
   "toc_position": {},
   "toc_section_display": true,
   "toc_window_display": false
  },
  "varInspector": {
   "cols": {
    "lenName": 16,
    "lenType": 16,
    "lenVar": 40
   },
   "kernels_config": {
    "python": {
     "delete_cmd_postfix": "",
     "delete_cmd_prefix": "del ",
     "library": "var_list.py",
     "varRefreshCmd": "print(var_dic_list())"
    },
    "r": {
     "delete_cmd_postfix": ") ",
     "delete_cmd_prefix": "rm(",
     "library": "var_list.r",
     "varRefreshCmd": "cat(var_dic_list()) "
    }
   },
   "types_to_exclude": [
    "module",
    "function",
    "builtin_function_or_method",
    "instance",
    "_Feature"
   ],
   "window_display": false
  }
 },
 "nbformat": 4,
 "nbformat_minor": 2
}
